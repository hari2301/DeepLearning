{
  "nbformat": 4,
  "nbformat_minor": 0,
  "metadata": {
    "colab": {
      "name": "LeNet.ipynb",
      "provenance": []
    },
    "kernelspec": {
      "name": "python3",
      "display_name": "Python 3"
    },
    "language_info": {
      "name": "python"
    }
  },
  "cells": [
    {
      "cell_type": "code",
      "metadata": {
        "id": "4I2ddo_adGVb"
      },
      "source": [
        "import keras\n",
        "from keras.datasets import mnist\n",
        "from keras.layers import Conv2D, MaxPooling2D\n",
        "from keras.layers import Dense,Flatten\n",
        "from keras.models import Sequential\n",
        "from tensorflow.keras.utils import to_categorical"
      ],
      "execution_count": 45,
      "outputs": []
    },
    {
      "cell_type": "code",
      "metadata": {
        "id": "ZYV6GTEqdpLQ"
      },
      "source": [
        "(x_train,y_train),(x_test,y_test)=mnist.load_data()"
      ],
      "execution_count": 13,
      "outputs": []
    },
    {
      "cell_type": "code",
      "metadata": {
        "id": "sYH8NUzQeB3Y"
      },
      "source": [
        "x_train=x_train.reshape(x_train.shape[0],28,28,1)\n",
        "x_test=x_test.reshape(x_test.shape[0],28,28,1)"
      ],
      "execution_count": 15,
      "outputs": []
    },
    {
      "cell_type": "code",
      "metadata": {
        "colab": {
          "base_uri": "https://localhost:8080/"
        },
        "id": "EfOSzAqLeIY-",
        "outputId": "0c72877d-5a68-48ff-944d-bab5e436b93b"
      },
      "source": [
        "print(x_test.shape,x_train.shape,y_test.shape,y_train.shape)"
      ],
      "execution_count": 16,
      "outputs": [
        {
          "output_type": "stream",
          "text": [
            "(10000, 28, 28, 1) (60000, 28, 28, 1) (10000,) (60000,)\n"
          ],
          "name": "stdout"
        }
      ]
    },
    {
      "cell_type": "code",
      "metadata": {
        "id": "oWEDctfqggpv"
      },
      "source": [
        "x_train=x_train/255\n",
        "x_test=x_test/255"
      ],
      "execution_count": 17,
      "outputs": []
    },
    {
      "cell_type": "code",
      "metadata": {
        "id": "yif81yfFsmqe"
      },
      "source": [
        "y_train=to_categorical(y_train,10)\n",
        "y_test=to_categorical(y_test,10)"
      ],
      "execution_count": 46,
      "outputs": []
    },
    {
      "cell_type": "code",
      "metadata": {
        "colab": {
          "base_uri": "https://localhost:8080/"
        },
        "id": "38pQ1E6ehY7b",
        "outputId": "baf6c5c7-3d6a-4bab-8460-131327ca24e2"
      },
      "source": [
        "model=Sequential()\n",
        "model.add(Conv2D(6, kernel_size=(5, 5), activation='relu', input_shape=(28, 28, 1)))\n",
        "model.add(MaxPooling2D(pool_size=(2,2)))\n",
        "model.add(Conv2D(16, kernel_size=(5, 5), activation='relu'))\n",
        "model.add(MaxPooling2D(pool_size=(2,2)))\n",
        "model.add(Flatten())\n",
        "model.add(Dense(120, activation='tanh'))\n",
        "model.add(Dense(84,activation='relu'))\n",
        "model.add(Dense(10, activation='softmax'))\n",
        "\n",
        "model.summary()\n",
        "model.compile(optimizer=keras.optimizers.Adam(), loss=keras.metrics.categorical_crossentropy, metrics=['accuracy'])\n",
        "model.fit(x_train, y_train, batch_size=128, epochs=10, verbose=1, validation_data=(x_test, y_test))\n",
        "score=model.evaluate(x_train,y_train)\n",
        "print('test score:', score[0])\n",
        "print('loss :',score[1])"
      ],
      "execution_count": 58,
      "outputs": [
        {
          "output_type": "stream",
          "text": [
            "Model: \"sequential_8\"\n",
            "_________________________________________________________________\n",
            "Layer (type)                 Output Shape              Param #   \n",
            "=================================================================\n",
            "conv2d_14 (Conv2D)           (None, 24, 24, 6)         156       \n",
            "_________________________________________________________________\n",
            "max_pooling2d_11 (MaxPooling (None, 12, 12, 6)         0         \n",
            "_________________________________________________________________\n",
            "conv2d_15 (Conv2D)           (None, 8, 8, 16)          2416      \n",
            "_________________________________________________________________\n",
            "max_pooling2d_12 (MaxPooling (None, 4, 4, 16)          0         \n",
            "_________________________________________________________________\n",
            "flatten_5 (Flatten)          (None, 256)               0         \n",
            "_________________________________________________________________\n",
            "dense_15 (Dense)             (None, 120)               30840     \n",
            "_________________________________________________________________\n",
            "dense_16 (Dense)             (None, 84)                10164     \n",
            "_________________________________________________________________\n",
            "dense_17 (Dense)             (None, 10)                850       \n",
            "=================================================================\n",
            "Total params: 44,426\n",
            "Trainable params: 44,426\n",
            "Non-trainable params: 0\n",
            "_________________________________________________________________\n",
            "Epoch 1/10\n",
            "469/469 [==============================] - 23s 48ms/step - loss: 0.7055 - accuracy: 0.7966 - val_loss: 0.0709 - val_accuracy: 0.9786\n",
            "Epoch 2/10\n",
            "469/469 [==============================] - 22s 47ms/step - loss: 0.0792 - accuracy: 0.9748 - val_loss: 0.0528 - val_accuracy: 0.9828\n",
            "Epoch 3/10\n",
            "469/469 [==============================] - 22s 47ms/step - loss: 0.0531 - accuracy: 0.9833 - val_loss: 0.0424 - val_accuracy: 0.9861\n",
            "Epoch 4/10\n",
            "469/469 [==============================] - 22s 47ms/step - loss: 0.0408 - accuracy: 0.9868 - val_loss: 0.0415 - val_accuracy: 0.9866\n",
            "Epoch 5/10\n",
            "469/469 [==============================] - 22s 47ms/step - loss: 0.0323 - accuracy: 0.9901 - val_loss: 0.0350 - val_accuracy: 0.9888\n",
            "Epoch 6/10\n",
            "469/469 [==============================] - 22s 47ms/step - loss: 0.0287 - accuracy: 0.9913 - val_loss: 0.0358 - val_accuracy: 0.9889\n",
            "Epoch 7/10\n",
            "469/469 [==============================] - 22s 47ms/step - loss: 0.0211 - accuracy: 0.9928 - val_loss: 0.0329 - val_accuracy: 0.9896\n",
            "Epoch 8/10\n",
            "469/469 [==============================] - 22s 47ms/step - loss: 0.0172 - accuracy: 0.9941 - val_loss: 0.0320 - val_accuracy: 0.9894\n",
            "Epoch 9/10\n",
            "469/469 [==============================] - 22s 47ms/step - loss: 0.0159 - accuracy: 0.9947 - val_loss: 0.0289 - val_accuracy: 0.9909\n",
            "Epoch 10/10\n",
            "469/469 [==============================] - 22s 47ms/step - loss: 0.0119 - accuracy: 0.9960 - val_loss: 0.0330 - val_accuracy: 0.9897\n",
            "1875/1875 [==============================] - 14s 7ms/step - loss: 0.0083 - accuracy: 0.9973\n",
            "test score: 0.008338208310306072\n",
            "loss : 0.9973333477973938\n"
          ],
          "name": "stdout"
        }
      ]
    },
    {
      "cell_type": "code",
      "metadata": {
        "id": "Zz-QAkhcwZON"
      },
      "source": [
        ""
      ],
      "execution_count": null,
      "outputs": []
    }
  ]
}